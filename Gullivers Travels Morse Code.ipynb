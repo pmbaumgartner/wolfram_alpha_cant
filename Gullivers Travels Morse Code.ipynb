{
 "metadata": {
  "name": "",
  "signature": "sha256:48a0152d4cf098a7bf6b4059475ee14cff7daa374e1f1f41770ebf695209d38b"
 },
 "nbformat": 3,
 "nbformat_minor": 0,
 "worksheets": [
  {
   "cells": [
    {
     "cell_type": "code",
     "collapsed": false,
     "input": [
      "from IPython.display import HTML, Image\n",
      "HTML('<blockquote class=\"twitter-tweet\" lang=\"en\"><p>ratio of dots to dashes in Gulliver&#39;s Travels in International Morse Code</p>&mdash; Wolfram|Alpha Can&#39;t (@wacnt) <a href=\"https://twitter.com/wacnt/status/566748866477694976\">February 15, 2015</a></blockquote><script async src=\"//platform.twitter.com/widgets.js\" charset=\"utf-8\"></script>')"
     ],
     "language": "python",
     "metadata": {},
     "outputs": [
      {
       "html": [
        "<blockquote class=\"twitter-tweet\" lang=\"en\"><p>ratio of dots to dashes in Gulliver&#39;s Travels in International Morse Code</p>&mdash; Wolfram|Alpha Can&#39;t (@wacnt) <a href=\"https://twitter.com/wacnt/status/566748866477694976\">February 15, 2015</a></blockquote><script async src=\"//platform.twitter.com/widgets.js\" charset=\"utf-8\"></script>"
       ],
       "metadata": {},
       "output_type": "pyout",
       "prompt_number": 4,
       "text": [
        "<IPython.core.display.HTML at 0x10446b9d0>"
       ]
      }
     ],
     "prompt_number": 4
    },
    {
     "cell_type": "code",
     "collapsed": false,
     "input": [
      "import pandas as pd\n",
      "from __future__ import division #so we can divide integers naturally\n",
      "%matplotlib inline"
     ],
     "language": "python",
     "metadata": {},
     "outputs": [],
     "prompt_number": 60
    },
    {
     "cell_type": "markdown",
     "metadata": {},
     "source": [
      "###Process\n",
      "1. Get character to morse code dictionary (http://code.activestate.com/recipes/578407-simple-morse-code-translator-in-python/)\n",
      "2. Calculate distribution of dots and dashes we should see in all of the english language (http://en.algoritmy.net/article/40379/Letter-frequency-English)\n",
      "3. Apply the English to morse code translation to Gulliver's Travels and calculate the ratio of dots to dashes (http://www.gutenberg.org/files/829/829-0.txt)"
     ]
    },
    {
     "cell_type": "markdown",
     "metadata": {},
     "source": [
      "####Step 1"
     ]
    },
    {
     "cell_type": "code",
     "collapsed": false,
     "input": [
      "CODE = {'A': '.-',     'B': '-...',   'C': '-.-.', \n",
      "        'D': '-..',    'E': '.',      'F': '..-.',\n",
      "        'G': '--.',    'H': '....',   'I': '..',\n",
      "        'J': '.---',   'K': '-.-',    'L': '.-..',\n",
      "        'M': '--',     'N': '-.',     'O': '---',\n",
      "        'P': '.--.',   'Q': '--.-',   'R': '.-.',\n",
      "        'S': '...',    'T': '-',      'U': '..-',\n",
      "        'V': '...-',   'W': '.--',    'X': '-..-',\n",
      "        'Y': '-.--',   'Z': '--..',\n",
      "        \n",
      "        '0': '-----',  '1': '.----',  '2': '..---',\n",
      "        '3': '...--',  '4': '....-',  '5': '.....',\n",
      "        '6': '-....',  '7': '--...',  '8': '---..',\n",
      "        '9': '----.' \n",
      "        }"
     ],
     "language": "python",
     "metadata": {},
     "outputs": [],
     "prompt_number": 3
    },
    {
     "cell_type": "markdown",
     "metadata": {},
     "source": [
      "####Step 2"
     ]
    },
    {
     "cell_type": "markdown",
     "metadata": {},
     "source": [
      "There are about 472,902 characters in Gulliver's Travels -- I used Word and just did a word count of the text. We can use this, along with the average occurance of characters in the English alphabet to calculate what we would expect the ratio to be."
     ]
    },
    {
     "cell_type": "code",
     "collapsed": false,
     "input": [
      "Image('http://i.imgur.com/VzM1TE8m.png')"
     ],
     "language": "python",
     "metadata": {},
     "outputs": [
      {
       "metadata": {},
       "output_type": "pyout",
       "png": "[encoded data removed]",
       "prompt_number": 10,
       "text": [
        "<IPython.core.display.Image at 0x10389cc50>"
       ]
      }
     ],
     "prompt_number": 10
    },
    {
     "cell_type": "markdown",
     "metadata": {},
     "source": [
      "1. *pandas*'s `read_html` returns a list of tables, formatted as DataFrames, from a webpage\n",
      "2. the table we want is indexed as 1 in this list\n",
      "3. this will also help us import the percentages: http://stackoverflow.com/questions/25669588/convert-percent-string-to-float-in-pandas-read-csv\n"
     ]
    },
    {
     "cell_type": "code",
     "collapsed": false,
     "input": [
      "letterFreq = pd.read_html('http://en.algoritmy.net/article/40379/Letter-frequency-English', header=0, index_col=[0])[1]"
     ],
     "language": "python",
     "metadata": {},
     "outputs": [],
     "prompt_number": 30
    },
    {
     "cell_type": "code",
     "collapsed": false,
     "input": [
      "# convert the percent strings to floats so we can math!\n",
      "def p2f(x):\n",
      "    return float(x.strip('%'))/100\n",
      "letterFreq['Frequency (%)'] = letterFreq['Frequency (%)'].apply(lambda x: p2f(x))"
     ],
     "language": "python",
     "metadata": {},
     "outputs": [],
     "prompt_number": 23
    },
    {
     "cell_type": "code",
     "collapsed": false,
     "input": [
      "#add a column that's the morse code for that chracter\n",
      "def findMorse(x):\n",
      "    return CODE[x]\n",
      "letterFreq['Morse'] = letterFreq.index.map(lambda x: findMorse(x))"
     ],
     "language": "python",
     "metadata": {},
     "outputs": [],
     "prompt_number": 45
    },
    {
     "cell_type": "code",
     "collapsed": false,
     "input": [
      "def countDots(x):\n",
      "    return str(x).count('.')\n",
      "def countDash(x):\n",
      "    return str(x).count('-')\n",
      "letterFreq['Dots'] = letterFreq['Morse'].apply(lambda x: countDots(x))\n",
      "letterFreq['Dash'] = letterFreq['Morse'].apply(lambda x: countDash(x))"
     ],
     "language": "python",
     "metadata": {},
     "outputs": [],
     "prompt_number": 51
    },
    {
     "cell_type": "code",
     "collapsed": false,
     "input": [
      "#calculate a column of expected counts for Gulliver's Travels\n",
      "letterFreq['GT_Expected'] = (letterFreq['Frequency (%)'] * 472902).apply(lambda x: round(x))\n",
      "letterFreq['GT_Dot_Expected'] = (letterFreq['Dots'] * letterFreq['GT_Expected'])\n",
      "letterFreq['GT_Dash_Expected'] = (letterFreq['Dash'] * letterFreq['GT_Expected'])"
     ],
     "language": "python",
     "metadata": {},
     "outputs": [],
     "prompt_number": 55
    },
    {
     "cell_type": "code",
     "collapsed": false,
     "input": [
      "letterFreq['GT_Dot_Expected'].sum() / letterFreq['GT_Dash_Expected'].sum()"
     ],
     "language": "python",
     "metadata": {},
     "outputs": [
      {
       "metadata": {},
       "output_type": "pyout",
       "prompt_number": 62,
       "text": [
        "1.5453399997035286"
       ]
      }
     ],
     "prompt_number": 62
    },
    {
     "cell_type": "markdown",
     "metadata": {},
     "source": [
      "####Step 3 - Actually do it with Gulliver's Travels!"
     ]
    },
    {
     "cell_type": "code",
     "collapsed": false,
     "input": [
      "import requests  #Let's get some web data!\n",
      "import string #we'll need this to remove punctuation"
     ],
     "language": "python",
     "metadata": {},
     "outputs": [],
     "prompt_number": 123
    },
    {
     "cell_type": "code",
     "collapsed": false,
     "input": [
      "GT_url = 'http://www.gutenberg.org/files/829/829-0.txt'\n",
      "GT_text = requests.get(GT_url).text.encode('ascii', errors='replace')"
     ],
     "language": "python",
     "metadata": {},
     "outputs": [],
     "prompt_number": 111
    },
    {
     "cell_type": "code",
     "collapsed": false,
     "input": [
      "start_string = \"***START OF THE PROJECT GUTENBERG EBOOK GULLIVER'S TRAVELS***\"\n",
      "end_string = \"***END OF THE PROJECT GUTENBERG EBOOK GULLIVER'S TRAVELS***\""
     ],
     "language": "python",
     "metadata": {},
     "outputs": [],
     "prompt_number": 112
    },
    {
     "cell_type": "code",
     "collapsed": false,
     "input": [
      "start_position = GT_text.find(start_string) + len(start_string)\n",
      "end_position = GT_text.find(end_string) + len(end_string)"
     ],
     "language": "python",
     "metadata": {},
     "outputs": [],
     "prompt_number": 113
    },
    {
     "cell_type": "code",
     "collapsed": false,
     "input": [
      "GT_text = GT_text[start_position:end_position]"
     ],
     "language": "python",
     "metadata": {},
     "outputs": [],
     "prompt_number": 114
    },
    {
     "cell_type": "code",
     "collapsed": false,
     "input": [
      "GT_text = GT_text.replace('\\n','')\n",
      "GT_text = GT_text.replace('\\r','')\n",
      "GT_text = GT_text.upper()"
     ],
     "language": "python",
     "metadata": {},
     "outputs": [],
     "prompt_number": 119
    },
    {
     "cell_type": "code",
     "collapsed": false,
     "input": [
      "exclude = set(string.punctuation)\n",
      "table = string.maketrans(\"\",\"\")"
     ],
     "language": "python",
     "metadata": {},
     "outputs": [],
     "prompt_number": 124
    },
    {
     "cell_type": "code",
     "collapsed": false,
     "input": [
      "GT_text = GT_text.translate(table, string.punctuation)"
     ],
     "language": "python",
     "metadata": {},
     "outputs": [],
     "prompt_number": 128
    },
    {
     "cell_type": "code",
     "collapsed": false,
     "input": [
      "GT_text_characters = \"\".join(GT_text.split())"
     ],
     "language": "python",
     "metadata": {},
     "outputs": [],
     "prompt_number": 131
    },
    {
     "cell_type": "code",
     "collapsed": false,
     "input": [
      "len(GT_text)"
     ],
     "language": "python",
     "metadata": {},
     "outputs": [
      {
       "metadata": {},
       "output_type": "pyout",
       "prompt_number": 133,
       "text": [
        "455786"
       ]
      }
     ],
     "prompt_number": 133
    },
    {
     "cell_type": "code",
     "collapsed": false,
     "input": [
      "#this takes forever...\n",
      "morse_string = ''\n",
      "for i, char in enumerate(GT_text_characters):\n",
      "    morse_string += CODE[char]\n",
      "    if i % 50000 == 0:\n",
      "        print \"on character:\", i, \"of\", len(GT_text_characters)"
     ],
     "language": "python",
     "metadata": {},
     "outputs": [],
     "prompt_number": 136
    },
    {
     "cell_type": "code",
     "collapsed": false,
     "input": [
      "len(morse_string)"
     ],
     "language": "python",
     "metadata": {},
     "outputs": [
      {
       "metadata": {},
       "output_type": "pyout",
       "prompt_number": 138,
       "text": [
        "1155868"
       ]
      }
     ],
     "prompt_number": 138
    },
    {
     "cell_type": "code",
     "collapsed": false,
     "input": [
      "dot_count = 0\n",
      "dash_count = 0\n",
      "for i, morse in enumerate(morse_string):\n",
      "    if morse == '.':\n",
      "        dot_count += 1\n",
      "    if morse == '-':\n",
      "        dash_count += 1\n",
      "    if i % 100000 == 0:\n",
      "        print \"on character:\", i, \"of\", len(morse_string)"
     ],
     "language": "python",
     "metadata": {},
     "outputs": [
      {
       "output_type": "stream",
       "stream": "stdout",
       "text": [
        "on character: 0 of 1155868\n",
        "on character: 100000 of 1155868\n",
        "on character:"
       ]
      },
      {
       "output_type": "stream",
       "stream": "stdout",
       "text": [
        " 200000 of 1155868\n",
        "on character: 300000 of 1155868\n",
        "on character:"
       ]
      },
      {
       "output_type": "stream",
       "stream": "stdout",
       "text": [
        " 400000 of 1155868\n",
        "on character: 500000 of 1155868\n",
        "on character:"
       ]
      },
      {
       "output_type": "stream",
       "stream": "stdout",
       "text": [
        " 600000 of 1155868\n",
        "on character: 700000 of 1155868\n",
        "on character:"
       ]
      },
      {
       "output_type": "stream",
       "stream": "stdout",
       "text": [
        " 800000 of 1155868\n",
        "on character: 900000 of 1155868\n",
        "on character:"
       ]
      },
      {
       "output_type": "stream",
       "stream": "stdout",
       "text": [
        " 1000000 of 1155868\n",
        "on character: 1100000 of 1155868\n"
       ]
      }
     ],
     "prompt_number": 143
    },
    {
     "cell_type": "code",
     "collapsed": false,
     "input": [
      "dot_count / dash_count"
     ],
     "language": "python",
     "metadata": {},
     "outputs": [
      {
       "metadata": {},
       "output_type": "pyout",
       "prompt_number": 146,
       "text": [
        "1.5241481119137674"
       ]
      }
     ],
     "prompt_number": 146
    }
   ],
   "metadata": {}
  }
 ]
}