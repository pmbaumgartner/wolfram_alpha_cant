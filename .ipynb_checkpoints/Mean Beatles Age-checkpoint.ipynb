{
 "metadata": {
  "name": "",
  "signature": "sha256:10e76f419a9fc9f5a1ebd83835aa882a79bf7e38697b6b9134b770fbe67ee6fa"
 },
 "nbformat": 3,
 "nbformat_minor": 0,
 "worksheets": [
  {
   "cells": [
    {
     "cell_type": "code",
     "collapsed": false,
     "input": [
      "from IPython.display import HTML\n",
      "HTML('<blockquote class=\"twitter-tweet\" lang=\"en\"><p>average age of the members of The Beatles on Jan 1, 1964</p>&mdash; Wolfram|Alpha Can&#39;t (@wacnt) <a href=\"https://twitter.com/wacnt/status/552978186158755840\">January 8, 2015</a></blockquote><script async src=\"//platform.twitter.com/widgets.js\" charset=\"utf-8\"></script>')"
     ],
     "language": "python",
     "metadata": {},
     "outputs": [
      {
       "html": [
        "<blockquote class=\"twitter-tweet\" lang=\"en\"><p>average age of the members of The Beatles on Jan 1, 1964</p>&mdash; Wolfram|Alpha Can&#39;t (@wacnt) <a href=\"https://twitter.com/wacnt/status/552978186158755840\">January 8, 2015</a></blockquote><script async src=\"//platform.twitter.com/widgets.js\" charset=\"utf-8\"></script>"
       ],
       "metadata": {},
       "output_type": "pyout",
       "prompt_number": 2,
       "text": [
        "<IPython.core.display.HTML at 0x104067390>"
       ]
      }
     ],
     "prompt_number": 2
    },
    {
     "cell_type": "markdown",
     "metadata": {},
     "source": [
      "###Beatles Birthdates\n",
      "from: https://answers.yahoo.com/question/index?qid=20081003053453AARReWI(Yes, Yahoo Answers of all places)\n",
      "\n",
      "**John Lennon** - 9 October 1940 \u2013 8 December 1980\n",
      "\n",
      "**Paul McCartney** - 18 June 1942 - \n",
      "\n",
      "**George Harrison** - 25 February 1943 \u2013 29 November 2001 \n",
      "\n",
      "**Ringo Starr** - 7 July 1940 -"
     ]
    },
    {
     "cell_type": "code",
     "collapsed": false,
     "input": [
      "from datetime import date\n",
      "from dateutil.relativedelta import relativedelta"
     ],
     "language": "python",
     "metadata": {},
     "outputs": [],
     "prompt_number": 21
    },
    {
     "cell_type": "code",
     "collapsed": false,
     "input": [
      "lennon = date(1940, 10, 9)\n",
      "mccartney = date(1942, 6, 18)\n",
      "harrison = date(1943, 2, 25)\n",
      "starr = date(1940, 7, 7)"
     ],
     "language": "python",
     "metadata": {},
     "outputs": [],
     "prompt_number": 22
    },
    {
     "cell_type": "code",
     "collapsed": false,
     "input": [
      "end_date = date(1964, 1, 1)"
     ],
     "language": "python",
     "metadata": {},
     "outputs": [],
     "prompt_number": 23
    },
    {
     "cell_type": "code",
     "collapsed": false,
     "input": [
      "lennon_age = relativedelta(end_date, lennon).years\n",
      "mccartney_age = relativedelta(end_date, mccartney).years\n",
      "harrison_age = relativedelta(end_date, harrison).years\n",
      "starr_age = relativedelta(end_date, starr).years"
     ],
     "language": "python",
     "metadata": {},
     "outputs": [],
     "prompt_number": 24
    },
    {
     "cell_type": "code",
     "collapsed": false,
     "input": [
      "agelist = [lennon_age, mccartney_age, harrison_age, starr_age]"
     ],
     "language": "python",
     "metadata": {},
     "outputs": [],
     "prompt_number": 25
    },
    {
     "cell_type": "code",
     "collapsed": false,
     "input": [
      "mean_beatles_age = float(sum(agelist)) / len(agelist)\n",
      "print mean_beatles_age"
     ],
     "language": "python",
     "metadata": {},
     "outputs": [
      {
       "output_type": "stream",
       "stream": "stdout",
       "text": [
        "21.75\n"
       ]
      }
     ],
     "prompt_number": 27
    },
    {
     "cell_type": "markdown",
     "metadata": {},
     "source": [
      "### Knowledge Sources\n",
      "- Pythonic difference between two dates in years: http://stackoverflow.com/questions/4436957/pythonic-difference-between-two-dates-in-years"
     ]
    }
   ],
   "metadata": {}
  }
 ]
}