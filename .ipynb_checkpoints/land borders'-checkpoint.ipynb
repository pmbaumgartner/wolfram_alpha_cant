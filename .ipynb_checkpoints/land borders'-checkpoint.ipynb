{
 "metadata": {
  "name": "",
  "signature": "sha256:0b6ce217f54831a2e8604c69fae522703f6c504da2482f8442e1338e0c66e2ab"
 },
 "nbformat": 3,
 "nbformat_minor": 0,
 "worksheets": [
  {
   "cells": [
    {
     "cell_type": "code",
     "collapsed": false,
     "input": [
      "from IPython.display import HTML\n",
      "HTML('<blockquote class=\"twitter-tweet\" lang=\"en\"><p>the pair of neighboring countries whose ratio of birth rates is the greatest</p>&mdash; Wolfram|Alpha Can&#39;t (@wacnt) <a href=\"https://twitter.com/wacnt/status/564936961605922816\">February 10, 2015</a></blockquote><script async src=\"//platform.twitter.com/widgets.js\" charset=\"utf-8\"></script>')"
     ],
     "language": "python",
     "metadata": {},
     "outputs": [
      {
       "html": [
        "<blockquote class=\"twitter-tweet\" lang=\"en\"><p>the pair of neighboring countries whose ratio of birth rates is the greatest</p>&mdash; Wolfram|Alpha Can&#39;t (@wacnt) <a href=\"https://twitter.com/wacnt/status/564936961605922816\">February 10, 2015</a></blockquote><script async src=\"//platform.twitter.com/widgets.js\" charset=\"utf-8\"></script>"
       ],
       "metadata": {},
       "output_type": "pyout",
       "prompt_number": 1,
       "text": [
        "<IPython.core.display.HTML at 0x104369750>"
       ]
      }
     ],
     "prompt_number": 1
    },
    {
     "cell_type": "code",
     "collapsed": false,
     "input": [
      "import pandas as pd"
     ],
     "language": "python",
     "metadata": {},
     "outputs": [],
     "prompt_number": 2
    },
    {
     "cell_type": "markdown",
     "metadata": {},
     "source": [
      "### Data Sources\n",
      "1. Birth Rates from the [CIA World Factbook](https://www.cia.gov/library/publications/the-world-factbook/rankorder/2054rank.html)\n",
      "2. Land boundaries from the [CIA World Factbook](https://www.cia.gov/library/publications/the-world-factbook/fields/2096.html)\n",
      "    - I cheated and put the table into a [csv](https://www.dropbox.com/s/7phr78garen3fvu/border_countries.csv?dl=1) since they don't have a nice text version"
     ]
    },
    {
     "cell_type": "code",
     "collapsed": false,
     "input": [
      "birth_rates = pd.read_table('https://www.cia.gov/library/publications/the-world-factbook/rankorder/rawdata_2054.txt', names=['rank','country','birth_rate'])"
     ],
     "language": "python",
     "metadata": {},
     "outputs": [],
     "prompt_number": 6
    },
    {
     "cell_type": "code",
     "collapsed": false,
     "input": [
      "birth_rates.head()"
     ],
     "language": "python",
     "metadata": {},
     "outputs": [
      {
       "html": [
        "<div style=\"max-height:1000px;max-width:1500px;overflow:auto;\">\n",
        "<table border=\"1\" class=\"dataframe\">\n",
        "  <thead>\n",
        "    <tr style=\"text-align: right;\">\n",
        "      <th></th>\n",
        "      <th>rank</th>\n",
        "      <th>country</th>\n",
        "      <th>birth_rate</th>\n",
        "    </tr>\n",
        "  </thead>\n",
        "  <tbody>\n",
        "    <tr>\n",
        "      <th>0</th>\n",
        "      <td> 1</td>\n",
        "      <td>        Niger</td>\n",
        "      <td> 46.12</td>\n",
        "    </tr>\n",
        "    <tr>\n",
        "      <th>1</th>\n",
        "      <td> 2</td>\n",
        "      <td>         Mali</td>\n",
        "      <td> 45.53</td>\n",
        "    </tr>\n",
        "    <tr>\n",
        "      <th>2</th>\n",
        "      <td> 3</td>\n",
        "      <td>       Uganda</td>\n",
        "      <td> 44.17</td>\n",
        "    </tr>\n",
        "    <tr>\n",
        "      <th>3</th>\n",
        "      <td> 4</td>\n",
        "      <td>       Zambia</td>\n",
        "      <td> 42.46</td>\n",
        "    </tr>\n",
        "    <tr>\n",
        "      <th>4</th>\n",
        "      <td> 5</td>\n",
        "      <td> Burkina Faso</td>\n",
        "      <td> 42.42</td>\n",
        "    </tr>\n",
        "  </tbody>\n",
        "</table>\n",
        "</div>"
       ],
       "metadata": {},
       "output_type": "pyout",
       "prompt_number": 7,
       "text": [
        "   rank       country  birth_rate\n",
        "0     1         Niger       46.12\n",
        "1     2          Mali       45.53\n",
        "2     3        Uganda       44.17\n",
        "3     4        Zambia       42.46\n",
        "4     5  Burkina Faso       42.42"
       ]
      }
     ],
     "prompt_number": 7
    },
    {
     "cell_type": "code",
     "collapsed": false,
     "input": [
      "land_borders = pd.read_csv('https://www.dropbox.com/s/7phr78garen3fvu/border_countries.csv?dl=1')"
     ],
     "language": "python",
     "metadata": {},
     "outputs": [],
     "prompt_number": 53
    },
    {
     "cell_type": "code",
     "collapsed": false,
     "input": [
      "land_borders.head(15)"
     ],
     "language": "python",
     "metadata": {},
     "outputs": [
      {
       "html": [
        "<div style=\"max-height:1000px;max-width:1500px;overflow:auto;\">\n",
        "<table border=\"1\" class=\"dataframe\">\n",
        "  <thead>\n",
        "    <tr style=\"text-align: right;\">\n",
        "      <th></th>\n",
        "      <th>COUNTRY</th>\n",
        "      <th>LAND BOUNDARIES(KM)</th>\n",
        "    </tr>\n",
        "  </thead>\n",
        "  <tbody>\n",
        "    <tr>\n",
        "      <th>0 </th>\n",
        "      <td>            NaN</td>\n",
        "      <td>                                               NaN</td>\n",
        "    </tr>\n",
        "    <tr>\n",
        "      <th>1 </th>\n",
        "      <td>    Afghanistan</td>\n",
        "      <td>                                  total:\ufffd5,987 km\ufffd</td>\n",
        "    </tr>\n",
        "    <tr>\n",
        "      <th>2 </th>\n",
        "      <td>            NaN</td>\n",
        "      <td> border countries:\ufffdChina 91 km, Iran 921 km, Pa...</td>\n",
        "    </tr>\n",
        "    <tr>\n",
        "      <th>3 </th>\n",
        "      <td>            NaN</td>\n",
        "      <td>                                               NaN</td>\n",
        "    </tr>\n",
        "    <tr>\n",
        "      <th>4 </th>\n",
        "      <td>       Akrotiri</td>\n",
        "      <td>                                     total:\ufffd48 km\ufffd</td>\n",
        "    </tr>\n",
        "    <tr>\n",
        "      <th>5 </th>\n",
        "      <td>            NaN</td>\n",
        "      <td>                    border countries:\ufffdCyprus 48 km</td>\n",
        "    </tr>\n",
        "    <tr>\n",
        "      <th>6 </th>\n",
        "      <td>            NaN</td>\n",
        "      <td>                                               NaN</td>\n",
        "    </tr>\n",
        "    <tr>\n",
        "      <th>7 </th>\n",
        "      <td>        Albania</td>\n",
        "      <td>                                    total:\ufffd691 km\ufffd</td>\n",
        "    </tr>\n",
        "    <tr>\n",
        "      <th>8 </th>\n",
        "      <td>            NaN</td>\n",
        "      <td> border countries:\ufffdGreece 212 km, Kosovo 112 km...</td>\n",
        "    </tr>\n",
        "    <tr>\n",
        "      <th>9 </th>\n",
        "      <td>            NaN</td>\n",
        "      <td>                                               NaN</td>\n",
        "    </tr>\n",
        "    <tr>\n",
        "      <th>10</th>\n",
        "      <td>        Algeria</td>\n",
        "      <td>                                  total:\ufffd6,734 km\ufffd</td>\n",
        "    </tr>\n",
        "    <tr>\n",
        "      <th>11</th>\n",
        "      <td>            NaN</td>\n",
        "      <td> border countries:\ufffdLibya 989 km, Mali 1,359 km,...</td>\n",
        "    </tr>\n",
        "    <tr>\n",
        "      <th>12</th>\n",
        "      <td>            NaN</td>\n",
        "      <td>                                               NaN</td>\n",
        "    </tr>\n",
        "    <tr>\n",
        "      <th>13</th>\n",
        "      <td> American Samoa</td>\n",
        "      <td>                                              0 km</td>\n",
        "    </tr>\n",
        "    <tr>\n",
        "      <th>14</th>\n",
        "      <td>            NaN</td>\n",
        "      <td>                                               NaN</td>\n",
        "    </tr>\n",
        "  </tbody>\n",
        "</table>\n",
        "</div>"
       ],
       "metadata": {},
       "output_type": "pyout",
       "prompt_number": 54,
       "text": [
        "           COUNTRY                                LAND BOUNDARIES(KM)\n",
        "0              NaN                                                NaN\n",
        "1      Afghanistan                                   total:\ufffd5,987 km\ufffd\n",
        "2              NaN  border countries:\ufffdChina 91 km, Iran 921 km, Pa...\n",
        "3              NaN                                                NaN\n",
        "4         Akrotiri                                      total:\ufffd48 km\ufffd\n",
        "5              NaN                     border countries:\ufffdCyprus 48 km\n",
        "6              NaN                                                NaN\n",
        "7          Albania                                     total:\ufffd691 km\ufffd\n",
        "8              NaN  border countries:\ufffdGreece 212 km, Kosovo 112 km...\n",
        "9              NaN                                                NaN\n",
        "10         Algeria                                   total:\ufffd6,734 km\ufffd\n",
        "11             NaN  border countries:\ufffdLibya 989 km, Mali 1,359 km,...\n",
        "12             NaN                                                NaN\n",
        "13  American Samoa                                               0 km\n",
        "14             NaN                                                NaN"
       ]
      }
     ],
     "prompt_number": 54
    },
    {
     "cell_type": "code",
     "collapsed": false,
     "input": [],
     "language": "python",
     "metadata": {},
     "outputs": []
    }
   ],
   "metadata": {}
  }
 ]
}