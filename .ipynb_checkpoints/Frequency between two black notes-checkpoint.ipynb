{
 "metadata": {
  "name": "",
  "signature": "sha256:912d56a7cf7b42f63eef680fbd11c541756aa1332d83986f4478c909d0ac49a2"
 },
 "nbformat": 3,
 "nbformat_minor": 0,
 "worksheets": [
  {
   "cells": [
    {
     "cell_type": "code",
     "collapsed": false,
     "input": [
      "from IPython.display import HTML\n",
      "HTML('<blockquote class=\"twitter-tweet\" lang=\"en\"><p>expected frequecy ratio of the notes of two randomly-selected black keys on a piano</p>&mdash; Wolfram|Alpha Can&#39;t (@wacnt) <a href=\"https://twitter.com/wacnt/status/556602052386635777\">January 18, 2015</a></blockquote><script async src=\"//platform.twitter.com/widgets.js\" charset=\"utf-8\"></script>')"
     ],
     "language": "python",
     "metadata": {},
     "outputs": [
      {
       "html": [
        "<blockquote class=\"twitter-tweet\" lang=\"en\"><p>expected frequecy ratio of the notes of two randomly-selected black keys on a piano</p>&mdash; Wolfram|Alpha Can&#39;t (@wacnt) <a href=\"https://twitter.com/wacnt/status/556602052386635777\">January 18, 2015</a></blockquote><script async src=\"//platform.twitter.com/widgets.js\" charset=\"utf-8\"></script>"
       ],
       "metadata": {},
       "output_type": "pyout",
       "prompt_number": 17,
       "text": [
        "<IPython.core.display.HTML at 0x107c61710>"
       ]
      }
     ],
     "prompt_number": 17
    },
    {
     "cell_type": "code",
     "collapsed": false,
     "input": [
      "import pandas as pd"
     ],
     "language": "python",
     "metadata": {},
     "outputs": [],
     "prompt_number": 2
    },
    {
     "cell_type": "markdown",
     "metadata": {},
     "source": [
      "**NOTE:** before the next step, copy the table from http://www.seventhstring.com/resources/notefrequencies.html to the clipboard"
     ]
    },
    {
     "cell_type": "code",
     "collapsed": false,
     "input": [
      "freq_table = pd.read_clipboard()"
     ],
     "language": "python",
     "metadata": {},
     "outputs": [],
     "prompt_number": 3
    },
    {
     "cell_type": "code",
     "collapsed": false,
     "input": [
      "# verify the table pasted correctly\n",
      "freq_table"
     ],
     "language": "python",
     "metadata": {},
     "outputs": [
      {
       "html": [
        "<div style=\"max-height:1000px;max-width:1500px;overflow:auto;\">\n",
        "<table border=\"1\" class=\"dataframe\">\n",
        "  <thead>\n",
        "    <tr style=\"text-align: right;\">\n",
        "      <th></th>\n",
        "      <th>C</th>\n",
        "      <th>C#</th>\n",
        "      <th>D</th>\n",
        "      <th>Eb</th>\n",
        "      <th>E</th>\n",
        "      <th>F</th>\n",
        "      <th>F#</th>\n",
        "      <th>G</th>\n",
        "      <th>G#</th>\n",
        "      <th>A</th>\n",
        "      <th>Bb</th>\n",
        "      <th>B</th>\n",
        "    </tr>\n",
        "  </thead>\n",
        "  <tbody>\n",
        "    <tr>\n",
        "      <th>0</th>\n",
        "      <td>   16.35</td>\n",
        "      <td>   17.32</td>\n",
        "      <td>   18.35</td>\n",
        "      <td>   19.45</td>\n",
        "      <td>   20.60</td>\n",
        "      <td>   21.83</td>\n",
        "      <td>   23.12</td>\n",
        "      <td>   24.5</td>\n",
        "      <td>   25.96</td>\n",
        "      <td>   27.5</td>\n",
        "      <td>   29.14</td>\n",
        "      <td>   30.87</td>\n",
        "    </tr>\n",
        "    <tr>\n",
        "      <th>1</th>\n",
        "      <td>   32.70</td>\n",
        "      <td>   34.65</td>\n",
        "      <td>   36.71</td>\n",
        "      <td>   38.89</td>\n",
        "      <td>   41.20</td>\n",
        "      <td>   43.65</td>\n",
        "      <td>   46.25</td>\n",
        "      <td>   49.0</td>\n",
        "      <td>   51.91</td>\n",
        "      <td>   55.0</td>\n",
        "      <td>   58.27</td>\n",
        "      <td>   61.74</td>\n",
        "    </tr>\n",
        "    <tr>\n",
        "      <th>2</th>\n",
        "      <td>   65.41</td>\n",
        "      <td>   69.30</td>\n",
        "      <td>   73.42</td>\n",
        "      <td>   77.78</td>\n",
        "      <td>   82.41</td>\n",
        "      <td>   87.31</td>\n",
        "      <td>   92.50</td>\n",
        "      <td>   98.0</td>\n",
        "      <td>  103.80</td>\n",
        "      <td>  110.0</td>\n",
        "      <td>  116.50</td>\n",
        "      <td>  123.50</td>\n",
        "    </tr>\n",
        "    <tr>\n",
        "      <th>3</th>\n",
        "      <td>  130.80</td>\n",
        "      <td>  138.60</td>\n",
        "      <td>  146.80</td>\n",
        "      <td>  155.60</td>\n",
        "      <td>  164.80</td>\n",
        "      <td>  174.60</td>\n",
        "      <td>  185.00</td>\n",
        "      <td>  196.0</td>\n",
        "      <td>  207.70</td>\n",
        "      <td>  220.0</td>\n",
        "      <td>  233.10</td>\n",
        "      <td>  246.90</td>\n",
        "    </tr>\n",
        "    <tr>\n",
        "      <th>4</th>\n",
        "      <td>  261.60</td>\n",
        "      <td>  277.20</td>\n",
        "      <td>  293.70</td>\n",
        "      <td>  311.10</td>\n",
        "      <td>  329.60</td>\n",
        "      <td>  349.20</td>\n",
        "      <td>  370.00</td>\n",
        "      <td>  392.0</td>\n",
        "      <td>  415.30</td>\n",
        "      <td>  440.0</td>\n",
        "      <td>  466.20</td>\n",
        "      <td>  493.90</td>\n",
        "    </tr>\n",
        "    <tr>\n",
        "      <th>5</th>\n",
        "      <td>  523.30</td>\n",
        "      <td>  554.40</td>\n",
        "      <td>  587.30</td>\n",
        "      <td>  622.30</td>\n",
        "      <td>  659.30</td>\n",
        "      <td>  698.50</td>\n",
        "      <td>  740.00</td>\n",
        "      <td>  784.0</td>\n",
        "      <td>  830.60</td>\n",
        "      <td>  880.0</td>\n",
        "      <td>  932.30</td>\n",
        "      <td>  987.80</td>\n",
        "    </tr>\n",
        "    <tr>\n",
        "      <th>6</th>\n",
        "      <td> 1047.00</td>\n",
        "      <td> 1109.00</td>\n",
        "      <td> 1175.00</td>\n",
        "      <td> 1245.00</td>\n",
        "      <td> 1319.00</td>\n",
        "      <td> 1397.00</td>\n",
        "      <td> 1480.00</td>\n",
        "      <td> 1568.0</td>\n",
        "      <td> 1661.00</td>\n",
        "      <td> 1760.0</td>\n",
        "      <td> 1865.00</td>\n",
        "      <td> 1976.00</td>\n",
        "    </tr>\n",
        "    <tr>\n",
        "      <th>7</th>\n",
        "      <td> 2093.00</td>\n",
        "      <td> 2217.00</td>\n",
        "      <td> 2349.00</td>\n",
        "      <td> 2489.00</td>\n",
        "      <td> 2637.00</td>\n",
        "      <td> 2794.00</td>\n",
        "      <td> 2960.00</td>\n",
        "      <td> 3136.0</td>\n",
        "      <td> 3322.00</td>\n",
        "      <td> 3520.0</td>\n",
        "      <td> 3729.00</td>\n",
        "      <td> 3951.00</td>\n",
        "    </tr>\n",
        "    <tr>\n",
        "      <th>8</th>\n",
        "      <td> 4186.00</td>\n",
        "      <td> 4435.00</td>\n",
        "      <td> 4699.00</td>\n",
        "      <td> 4978.00</td>\n",
        "      <td> 5274.00</td>\n",
        "      <td> 5588.00</td>\n",
        "      <td> 5920.00</td>\n",
        "      <td> 6272.0</td>\n",
        "      <td> 6645.00</td>\n",
        "      <td> 7040.0</td>\n",
        "      <td> 7459.00</td>\n",
        "      <td> 7902.00</td>\n",
        "    </tr>\n",
        "  </tbody>\n",
        "</table>\n",
        "</div>"
       ],
       "metadata": {},
       "output_type": "pyout",
       "prompt_number": 18,
       "text": [
        "         C       C#        D       Eb        E        F       F#       G  \\\n",
        "0    16.35    17.32    18.35    19.45    20.60    21.83    23.12    24.5   \n",
        "1    32.70    34.65    36.71    38.89    41.20    43.65    46.25    49.0   \n",
        "2    65.41    69.30    73.42    77.78    82.41    87.31    92.50    98.0   \n",
        "3   130.80   138.60   146.80   155.60   164.80   174.60   185.00   196.0   \n",
        "4   261.60   277.20   293.70   311.10   329.60   349.20   370.00   392.0   \n",
        "5   523.30   554.40   587.30   622.30   659.30   698.50   740.00   784.0   \n",
        "6  1047.00  1109.00  1175.00  1245.00  1319.00  1397.00  1480.00  1568.0   \n",
        "7  2093.00  2217.00  2349.00  2489.00  2637.00  2794.00  2960.00  3136.0   \n",
        "8  4186.00  4435.00  4699.00  4978.00  5274.00  5588.00  5920.00  6272.0   \n",
        "\n",
        "        G#       A       Bb        B  \n",
        "0    25.96    27.5    29.14    30.87  \n",
        "1    51.91    55.0    58.27    61.74  \n",
        "2   103.80   110.0   116.50   123.50  \n",
        "3   207.70   220.0   233.10   246.90  \n",
        "4   415.30   440.0   466.20   493.90  \n",
        "5   830.60   880.0   932.30   987.80  \n",
        "6  1661.00  1760.0  1865.00  1976.00  \n",
        "7  3322.00  3520.0  3729.00  3951.00  \n",
        "8  6645.00  7040.0  7459.00  7902.00  "
       ]
      }
     ],
     "prompt_number": 18
    },
    {
     "cell_type": "code",
     "collapsed": false,
     "input": [
      "# grab all columns of sharps/flats\n",
      "sharp_flat_list = (freq_table['C#'].tolist() + freq_table['Eb'].tolist() + freq_table['F#'].tolist() +\n",
      "                   freq_table['G#'].tolist() + freq_table['Bb'].tolist())"
     ],
     "language": "python",
     "metadata": {},
     "outputs": [],
     "prompt_number": 5
    },
    {
     "cell_type": "code",
     "collapsed": false,
     "input": [
      "def ratio_sampler(num_samples):\n",
      "    ratio_list = []\n",
      "    for item in range(num_samples):\n",
      "        pair = sample(sharp_flat_list, 2)\n",
      "        ratio = pair[0] / pair[1]\n",
      "        \n",
      "        # ensure all ratios are > 1, since they're relative, and we want ratio of high:low\n",
      "        if ratio >= 1:\n",
      "            ratio_list.append(ratio)\n",
      "        if ratio < 1:\n",
      "            ratio_list.append(1 / ratio)\n",
      "            \n",
      "    return ratio_list   "
     ],
     "language": "python",
     "metadata": {},
     "outputs": [],
     "prompt_number": 7
    },
    {
     "cell_type": "code",
     "collapsed": false,
     "input": [
      "ratio_list = ratio_sampler(10000000)"
     ],
     "language": "python",
     "metadata": {},
     "outputs": [],
     "prompt_number": 19
    },
    {
     "cell_type": "code",
     "collapsed": false,
     "input": [
      "print \"Expected Frequency Ratio:\", sum(ratio_list) / len(ratio_list)"
     ],
     "language": "python",
     "metadata": {},
     "outputs": [
      {
       "output_type": "stream",
       "stream": "stdout",
       "text": [
        "Expected Frequency Ratio: "
       ]
      },
      {
       "output_type": "stream",
       "stream": "stdout",
       "text": [
        "26.3813616392\n"
       ]
      }
     ],
     "prompt_number": 20
    },
    {
     "cell_type": "markdown",
     "metadata": {},
     "source": [
      "###Knowledge Sources:\n",
      "- Select two random items from a set: http://stackoverflow.com/questions/1262955/how-do-i-pick-2-random-items-from-a-python-set"
     ]
    }
   ],
   "metadata": {}
  }
 ]
}