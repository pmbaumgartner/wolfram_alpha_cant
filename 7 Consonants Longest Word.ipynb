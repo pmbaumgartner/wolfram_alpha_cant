{
 "metadata": {
  "name": "",
  "signature": "sha256:9845a2c8cc96cdb90f729f17fa6bf97adc28cfc8a79c678c94689a3bbfee0571"
 },
 "nbformat": 3,
 "nbformat_minor": 0,
 "worksheets": [
  {
   "cells": [
    {
     "cell_type": "code",
     "collapsed": false,
     "input": [
      "from IPython.display import HTML\n",
      "HTML('<blockquote class=\"twitter-tweet\" lang=\"en\"><p>longest English word with exactly seven consonants</p>&mdash; Wolfram|Alpha Can&#39;t (@wacnt) <a href=\"https://twitter.com/wacnt/status/556239679977029632\">January 17, 2015</a></blockquote><script async src=\"//platform.twitter.com/widgets.js\" charset=\"utf-8\"></script>')"
     ],
     "language": "python",
     "metadata": {},
     "outputs": [
      {
       "html": [
        "<blockquote class=\"twitter-tweet\" lang=\"en\"><p>longest English word with exactly seven consonants</p>&mdash; Wolfram|Alpha Can&#39;t (@wacnt) <a href=\"https://twitter.com/wacnt/status/556239679977029632\">January 17, 2015</a></blockquote><script async src=\"//platform.twitter.com/widgets.js\" charset=\"utf-8\"></script>"
       ],
       "metadata": {},
       "output_type": "pyout",
       "prompt_number": 66,
       "text": [
        "<IPython.core.display.HTML at 0x10d8725d0>"
       ]
      }
     ],
     "prompt_number": 66
    },
    {
     "cell_type": "markdown",
     "metadata": {},
     "source": [
      "### Wordlist Info\n",
      "\n",
      "Downloaded the english-words.95 list from SCOWL\n",
      "\n",
      "http://wordlist.aspell.net/"
     ]
    },
    {
     "cell_type": "code",
     "collapsed": false,
     "input": [
      "with open('/Users/Peter/Downloads/scowl-2014.11.17/final/english-words.95') as temp_file:\n",
      "    dict_list = [line.rstrip('\\n') for line in temp_file]"
     ],
     "language": "python",
     "metadata": {},
     "outputs": [],
     "prompt_number": 67
    },
    {
     "cell_type": "code",
     "collapsed": false,
     "input": [
      "consonants = list(\"bcdfghjklmnpqrstvexz\")"
     ],
     "language": "python",
     "metadata": {},
     "outputs": [],
     "prompt_number": 68
    },
    {
     "cell_type": "code",
     "collapsed": false,
     "input": [
      "seven_consonants = []\n",
      "for word in dict_list:\n",
      "    if sum(word.count(c) for c in consonants) == 7:\n",
      "        #print word\n",
      "        seven_consonants.append((word, len(word)))"
     ],
     "language": "python",
     "metadata": {},
     "outputs": [],
     "prompt_number": 69
    },
    {
     "cell_type": "code",
     "collapsed": false,
     "input": [
      "sorted(seven_consonants, key=lambda tup: tup[1], reverse=True)[0:11]"
     ],
     "language": "python",
     "metadata": {},
     "outputs": [
      {
       "metadata": {},
       "output_type": "pyout",
       "prompt_number": 72,
       "text": [
        "[(\"autoinoculation's\", 17),\n",
        " (\"bioavailability's\", 17),\n",
        " ('anociassociation', 16),\n",
        " ('autoasphyxiation', 16),\n",
        " ('autoassimilation', 16),\n",
        " ('automanipulation', 16),\n",
        " (\"autopolyploidy's\", 16),\n",
        " ('autoxidizability', 16),\n",
        " ('cardiomyomalacia', 16),\n",
        " (\"unavoidability's\", 16),\n",
        " (\"aboriginality's\", 15)]"
       ]
      }
     ],
     "prompt_number": 72
    },
    {
     "cell_type": "markdown",
     "metadata": {},
     "source": [
      "###Knowledge Sources:\n",
      "- reading file into list: http://stackoverflow.com/questions/19062574/python-read-file-into-list-strip-newlines\n",
      "- counting consonants in words: http://stackoverflow.com/questions/7736211/python-counting-the-amount-of-vowels-or-consonants-in-a-user-input-word\n",
      "- sorting lists of tuples: http://stackoverflow.com/questions/3121979/how-to-sort-list-tuple-of-lists-tuples\n",
      "\n",
      "        "
     ]
    },
    {
     "cell_type": "code",
     "collapsed": false,
     "input": [],
     "language": "python",
     "metadata": {},
     "outputs": []
    }
   ],
   "metadata": {}
  }
 ]
}